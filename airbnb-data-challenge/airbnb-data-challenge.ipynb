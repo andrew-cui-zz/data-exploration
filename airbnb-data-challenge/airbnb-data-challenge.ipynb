{
 "cells": [
  {
   "cell_type": "markdown",
   "metadata": {},
   "source": [
    "# Airbnb data challenge: business metric deviations\n",
    "\n",
    "Using the Python data analytics packages to analyze when bookings fall out of typical rolling-average quantities. Includes a dataset of bookings over time.\n",
    "\n",
    "#### Dataset sources:\n",
    "GitHub  \n",
    "Airbnb"
   ]
  },
  {
   "cell_type": "code",
   "execution_count": null,
   "metadata": {},
   "outputs": [],
   "source": []
  }
 ],
 "metadata": {
  "kernelspec": {
   "display_name": "Python 3",
   "language": "python",
   "name": "python3"
  },
  "language_info": {
   "codemirror_mode": {
    "name": "ipython",
    "version": 3
   },
   "file_extension": ".py",
   "mimetype": "text/x-python",
   "name": "python",
   "nbconvert_exporter": "python",
   "pygments_lexer": "ipython3",
   "version": "3.6.3"
  }
 },
 "nbformat": 4,
 "nbformat_minor": 2
}
