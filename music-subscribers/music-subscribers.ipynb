{
 "cells": [
  {
   "cell_type": "markdown",
   "metadata": {},
   "source": [
    "# Music streaming services\n",
    "\n",
    "Running a Pareto-II probability model to compare acquisition rates and forecast future growth of premium (paid) subscribers on three prominent music services. Based off of Prof. Peter Fader's STAT 476 course at Wharton.\n",
    "\n",
    "#### Dataset sources:   \n",
    "Spotify: [statista-spotify](https://www.statista.com/statistics/244995/number-of-paying-spotify-subscribers/)    \n",
    "Apple: [statista-apple](https://www.statista.com/statistics/604959/number-of-apple-music-subscribers/)  \n",
    "Pandora: [statista-pandora-estimates](https://www.statista.com/statistics/253850/number-of-pandoras-paying-subscribers/)\n",
    "\n",
    "#### Methodology sources:  \n",
    "Hardie, B. and Fader, P. [Applied Probability Models in Marketing Research](http://www.brucehardie.com/talks/supp_mats02_part1.pdf)  \n",
    "Fader, P. ['STAT/MKTG 476/776 - 2018A, Section 401 Syllabus'](https://apps.wharton.upenn.edu/syllabi/2018A/MKTG476401/)"
   ]
  },
  {
   "cell_type": "markdown",
   "metadata": {},
   "source": [
    "### Import data\n",
    "Manually scraped data for each time period off of those three charts from Statista. Not all charts had values at each date."
   ]
  },
  {
   "cell_type": "code",
   "execution_count": 113,
   "metadata": {},
   "outputs": [],
   "source": [
    "import pandas as pd\n",
    "import numpy as np\n",
    "from datetime import datetime\n",
    "\n",
    "import warnings\n",
    "warnings.filterwarnings(\"ignore\")"
   ]
  },
  {
   "cell_type": "code",
   "execution_count": 58,
   "metadata": {},
   "outputs": [],
   "source": [
    "music = pd.read_excel('music-service-data.xlsx', 0)"
   ]
  },
  {
   "cell_type": "markdown",
   "metadata": {},
   "source": [
    "Normalizing dates to a time variable."
   ]
  },
  {
   "cell_type": "code",
   "execution_count": 63,
   "metadata": {},
   "outputs": [],
   "source": [
    "# baseline for reference\n",
    "baseline = np.datetime64('2010-01-01')\n",
    "\n",
    "# month difference since baseline\n",
    "music['t'] = music['Date'].apply(lambda x: (x.year - 2010) * 12 + (x.month - 1))"
   ]
  },
  {
   "cell_type": "code",
   "execution_count": 60,
   "metadata": {},
   "outputs": [
    {
     "data": {
      "text/html": [
       "<div>\n",
       "<style scoped>\n",
       "    .dataframe tbody tr th:only-of-type {\n",
       "        vertical-align: middle;\n",
       "    }\n",
       "\n",
       "    .dataframe tbody tr th {\n",
       "        vertical-align: top;\n",
       "    }\n",
       "\n",
       "    .dataframe thead th {\n",
       "        text-align: right;\n",
       "    }\n",
       "</style>\n",
       "<table border=\"1\" class=\"dataframe\">\n",
       "  <thead>\n",
       "    <tr style=\"text-align: right;\">\n",
       "      <th></th>\n",
       "      <th>Date</th>\n",
       "      <th>Spotify</th>\n",
       "      <th>Apple</th>\n",
       "      <th>Pandora</th>\n",
       "      <th>t</th>\n",
       "    </tr>\n",
       "  </thead>\n",
       "  <tbody>\n",
       "    <tr>\n",
       "      <th>0</th>\n",
       "      <td>2010-06-01</td>\n",
       "      <td>0.5</td>\n",
       "      <td>NaN</td>\n",
       "      <td>NaN</td>\n",
       "      <td>5</td>\n",
       "    </tr>\n",
       "    <tr>\n",
       "      <th>1</th>\n",
       "      <td>2010-12-01</td>\n",
       "      <td>NaN</td>\n",
       "      <td>NaN</td>\n",
       "      <td>0.63</td>\n",
       "      <td>11</td>\n",
       "    </tr>\n",
       "    <tr>\n",
       "      <th>2</th>\n",
       "      <td>2011-03-01</td>\n",
       "      <td>1.0</td>\n",
       "      <td>NaN</td>\n",
       "      <td>NaN</td>\n",
       "      <td>14</td>\n",
       "    </tr>\n",
       "    <tr>\n",
       "      <th>3</th>\n",
       "      <td>2011-06-01</td>\n",
       "      <td>1.5</td>\n",
       "      <td>NaN</td>\n",
       "      <td>NaN</td>\n",
       "      <td>17</td>\n",
       "    </tr>\n",
       "    <tr>\n",
       "      <th>4</th>\n",
       "      <td>2011-11-01</td>\n",
       "      <td>2.5</td>\n",
       "      <td>NaN</td>\n",
       "      <td>NaN</td>\n",
       "      <td>22</td>\n",
       "    </tr>\n",
       "  </tbody>\n",
       "</table>\n",
       "</div>"
      ],
      "text/plain": [
       "        Date  Spotify  Apple  Pandora   t\n",
       "0 2010-06-01      0.5    NaN      NaN   5\n",
       "1 2010-12-01      NaN    NaN     0.63  11\n",
       "2 2011-03-01      1.0    NaN      NaN  14\n",
       "3 2011-06-01      1.5    NaN      NaN  17\n",
       "4 2011-11-01      2.5    NaN      NaN  22"
      ]
     },
     "execution_count": 60,
     "metadata": {},
     "output_type": "execute_result"
    }
   ],
   "source": [
    "music.head()"
   ]
  },
  {
   "cell_type": "markdown",
   "metadata": {},
   "source": [
    "### Separation of analysis\n",
    "Running the model on Spotify and then generalizing it to the other models"
   ]
  },
  {
   "cell_type": "code",
   "execution_count": 188,
   "metadata": {},
   "outputs": [],
   "source": [
    "# separating the datasets\n",
    "spotify = music[['t', 'Spotify']]\n",
    "apple = music[['t', 'Apple']]\n",
    "pandora = music[['t', 'Pandora']]"
   ]
  },
  {
   "cell_type": "code",
   "execution_count": 189,
   "metadata": {},
   "outputs": [
    {
     "data": {
      "text/html": [
       "<div>\n",
       "<style scoped>\n",
       "    .dataframe tbody tr th:only-of-type {\n",
       "        vertical-align: middle;\n",
       "    }\n",
       "\n",
       "    .dataframe tbody tr th {\n",
       "        vertical-align: top;\n",
       "    }\n",
       "\n",
       "    .dataframe thead th {\n",
       "        text-align: right;\n",
       "    }\n",
       "</style>\n",
       "<table border=\"1\" class=\"dataframe\">\n",
       "  <thead>\n",
       "    <tr style=\"text-align: right;\">\n",
       "      <th></th>\n",
       "      <th>r</th>\n",
       "      <th>alpha</th>\n",
       "      <th>c</th>\n",
       "    </tr>\n",
       "  </thead>\n",
       "  <tbody>\n",
       "    <tr>\n",
       "      <th>Spotify</th>\n",
       "      <td>0.5</td>\n",
       "      <td>0.5</td>\n",
       "      <td>0.5</td>\n",
       "    </tr>\n",
       "    <tr>\n",
       "      <th>Apple</th>\n",
       "      <td>0.5</td>\n",
       "      <td>0.5</td>\n",
       "      <td>0.5</td>\n",
       "    </tr>\n",
       "    <tr>\n",
       "      <th>Pandora</th>\n",
       "      <td>0.5</td>\n",
       "      <td>0.5</td>\n",
       "      <td>0.5</td>\n",
       "    </tr>\n",
       "  </tbody>\n",
       "</table>\n",
       "</div>"
      ],
      "text/plain": [
       "           r  alpha    c\n",
       "Spotify  0.5    0.5  0.5\n",
       "Apple    0.5    0.5  0.5\n",
       "Pandora  0.5    0.5  0.5"
      ]
     },
     "execution_count": 189,
     "metadata": {},
     "output_type": "execute_result"
    }
   ],
   "source": [
    "# creating parameters for each model and overall dataframe to compare\n",
    "spotify_params = {'r': .5,\n",
    "                 'alpha': .5,\n",
    "                 'c': .5}\n",
    "apple_params = spotify_params.copy()\n",
    "pandora_params = spotify_params.copy()\n",
    "\n",
    "def parameter_table(spotify_params, apple_params, pandora_params):\n",
    "#     global spotify_params, apple_params, pandora_params\n",
    "    return pd.DataFrame({'Spotify': spotify_params, 'Apple': apple_params, 'Pandora': pandora_params}).T[['r', 'alpha', 'c']]\n",
    "\n",
    "# viewing parameter dataframe\n",
    "parameter_table(spotify_params, apple_params, pandora_params)"
   ]
  },
  {
   "cell_type": "markdown",
   "metadata": {},
   "source": [
    "Running the Pareto II on Spotify using the `spotify_params` dictionary, and generalizing functions.   \n",
    "\n",
    "The Pareto II is a probability mixture/Gaussian mixture model, taking the exponential-gamma distribution and incorporating duration-dependence hazard (increasing rate of events, such as using a service, over time).  \n",
    "For more reference into the Pareto II, see [Wikipedia: Pareto II/Lomax Distribution](https://en.wikipedia.org/wiki/Pareto_distribution)"
   ]
  },
  {
   "cell_type": "code",
   "execution_count": 208,
   "metadata": {},
   "outputs": [],
   "source": [
    "# CDF of the spotify data under random pre-set values\n",
    "def compute_CDF(params, dataset):\n",
    "    a = params['alpha']\n",
    "    r = params['r']\n",
    "    c = params['c']\n",
    "    return 1 - (a/(a + dataset['t'])**c)**r\n",
    "\n",
    "# PDF accordingly - this is not good Python syntax, but is most convenient\n",
    "def compute_PDF(dataset):\n",
    "    dataset['PDF'] = dataset['CDF'][0]\n",
    "    for i in range(1, len(dataset)):\n",
    "        dataset['PDF'][i] = dataset['CDF'][i] - dataset['CDF'][i - 1]\n",
    "    return dataset['PDF']\n",
    "\n",
    "# Incrementals\n",
    "def compute_incremental(dataset, name):\n",
    "    dataset['x_t'] = dataset[name][0]\n",
    "    for i in range(1, len(dataset)):\n",
    "        dataset['x_t'][i] = dataset[name][i] - dataset[name][i - 1]\n",
    "    return dataset['x_t']\n",
    "\n",
    "spotify['x_t'] = compute_incremental(spotify, 'Spotify')\n",
    "spotify['CDF'] = compute_CDF(spotify_params, spotify)\n",
    "spotify['PDF'] = compute_PDF(spotify)"
   ]
  },
  {
   "cell_type": "code",
   "execution_count": 210,
   "metadata": {},
   "outputs": [],
   "source": [
    "# computing log-likelihoods\n",
    "def compute_LL(params, dataset):\n",
    "    dataset['LL'] = np.log(dataset['PDF']) * dataset['x_t']\n",
    "    params['sum_LL'] = sum(dataset['LL'].dropna())\n",
    "    return params\n",
    "\n",
    "spotify_params = compute_LL(spotify_params, spotify)\n",
    "spotify['sum_E[X]'] = spotify['CDF'] * 100"
   ]
  },
  {
   "cell_type": "code",
   "execution_count": 219,
   "metadata": {},
   "outputs": [],
   "source": [
    "# Apple and Pandora\n",
    "apple['x_t'] = compute_incremental(apple, 'Apple')\n",
    "apple['CDF'] = compute_CDF(apple_params, apple)\n",
    "apple['PDF'] = compute_PDF(apple)\n",
    "apple['sum_E[X]'] = apple['CDF'] * 100\n",
    "apple_params = compute_LL(apple_params, apple)\n",
    "\n",
    "pandora['x_t'] = compute_incremental(pandora, 'Pandora')\n",
    "pandora['CDF'] = compute_CDF(pandora_params, pandora)\n",
    "pandora['PDF'] = compute_PDF(pandora)\n",
    "pandora['sum_E[X]'] = pandora['CDF'] * 100\n",
    "pandora_params = compute_LL(pandora_params, pandora)"
   ]
  },
  {
   "cell_type": "code",
   "execution_count": 220,
   "metadata": {},
   "outputs": [],
   "source": [
    "# dropping null values\n",
    "apple_clean = apple.dropna()\n",
    "spotify_clean = spotify.dropna()\n",
    "pandora_clean = pandora.dropna()"
   ]
  },
  {
   "cell_type": "code",
   "execution_count": 221,
   "metadata": {},
   "outputs": [
    {
     "data": {
      "text/html": [
       "<div>\n",
       "<style scoped>\n",
       "    .dataframe tbody tr th:only-of-type {\n",
       "        vertical-align: middle;\n",
       "    }\n",
       "\n",
       "    .dataframe tbody tr th {\n",
       "        vertical-align: top;\n",
       "    }\n",
       "\n",
       "    .dataframe thead th {\n",
       "        text-align: right;\n",
       "    }\n",
       "</style>\n",
       "<table border=\"1\" class=\"dataframe\">\n",
       "  <thead>\n",
       "    <tr style=\"text-align: right;\">\n",
       "      <th></th>\n",
       "      <th>t</th>\n",
       "      <th>Apple</th>\n",
       "      <th>CDF</th>\n",
       "      <th>PDF</th>\n",
       "      <th>LL</th>\n",
       "      <th>x_t</th>\n",
       "      <th>sum_E[X]</th>\n",
       "    </tr>\n",
       "  </thead>\n",
       "  <tbody>\n",
       "    <tr>\n",
       "      <th>19</th>\n",
       "      <td>73</td>\n",
       "      <td>11.0</td>\n",
       "      <td>0.758502</td>\n",
       "      <td>0.000828</td>\n",
       "      <td>-7.095920</td>\n",
       "      <td>1.0</td>\n",
       "      <td>75.850221</td>\n",
       "    </tr>\n",
       "    <tr>\n",
       "      <th>20</th>\n",
       "      <td>74</td>\n",
       "      <td>12.0</td>\n",
       "      <td>0.759317</td>\n",
       "      <td>0.000815</td>\n",
       "      <td>-7.112928</td>\n",
       "      <td>1.0</td>\n",
       "      <td>75.931671</td>\n",
       "    </tr>\n",
       "    <tr>\n",
       "      <th>21</th>\n",
       "      <td>75</td>\n",
       "      <td>13.0</td>\n",
       "      <td>0.760118</td>\n",
       "      <td>0.000801</td>\n",
       "      <td>-7.129707</td>\n",
       "      <td>1.0</td>\n",
       "      <td>76.011767</td>\n",
       "    </tr>\n",
       "    <tr>\n",
       "      <th>22</th>\n",
       "      <td>76</td>\n",
       "      <td>14.0</td>\n",
       "      <td>0.760905</td>\n",
       "      <td>0.000788</td>\n",
       "      <td>-7.146264</td>\n",
       "      <td>1.0</td>\n",
       "      <td>76.090547</td>\n",
       "    </tr>\n",
       "    <tr>\n",
       "      <th>23</th>\n",
       "      <td>77</td>\n",
       "      <td>15.0</td>\n",
       "      <td>0.761681</td>\n",
       "      <td>0.000775</td>\n",
       "      <td>-7.162605</td>\n",
       "      <td>1.0</td>\n",
       "      <td>76.168050</td>\n",
       "    </tr>\n",
       "    <tr>\n",
       "      <th>24</th>\n",
       "      <td>79</td>\n",
       "      <td>16.0</td>\n",
       "      <td>0.763194</td>\n",
       "      <td>0.001513</td>\n",
       "      <td>-6.493518</td>\n",
       "      <td>1.0</td>\n",
       "      <td>76.319372</td>\n",
       "    </tr>\n",
       "    <tr>\n",
       "      <th>25</th>\n",
       "      <td>80</td>\n",
       "      <td>17.0</td>\n",
       "      <td>0.763933</td>\n",
       "      <td>0.000739</td>\n",
       "      <td>-7.210383</td>\n",
       "      <td>1.0</td>\n",
       "      <td>76.393259</td>\n",
       "    </tr>\n",
       "    <tr>\n",
       "      <th>26</th>\n",
       "      <td>83</td>\n",
       "      <td>20.0</td>\n",
       "      <td>0.766082</td>\n",
       "      <td>0.002150</td>\n",
       "      <td>-18.427494</td>\n",
       "      <td>3.0</td>\n",
       "      <td>76.608214</td>\n",
       "    </tr>\n",
       "    <tr>\n",
       "      <th>33</th>\n",
       "      <td>99</td>\n",
       "      <td>40.0</td>\n",
       "      <td>0.776113</td>\n",
       "      <td>0.000566</td>\n",
       "      <td>-14.953512</td>\n",
       "      <td>2.0</td>\n",
       "      <td>77.611282</td>\n",
       "    </tr>\n",
       "  </tbody>\n",
       "</table>\n",
       "</div>"
      ],
      "text/plain": [
       "     t  Apple       CDF       PDF         LL  x_t   sum_E[X]\n",
       "19  73   11.0  0.758502  0.000828  -7.095920  1.0  75.850221\n",
       "20  74   12.0  0.759317  0.000815  -7.112928  1.0  75.931671\n",
       "21  75   13.0  0.760118  0.000801  -7.129707  1.0  76.011767\n",
       "22  76   14.0  0.760905  0.000788  -7.146264  1.0  76.090547\n",
       "23  77   15.0  0.761681  0.000775  -7.162605  1.0  76.168050\n",
       "24  79   16.0  0.763194  0.001513  -6.493518  1.0  76.319372\n",
       "25  80   17.0  0.763933  0.000739  -7.210383  1.0  76.393259\n",
       "26  83   20.0  0.766082  0.002150 -18.427494  3.0  76.608214\n",
       "33  99   40.0  0.776113  0.000566 -14.953512  2.0  77.611282"
      ]
     },
     "execution_count": 221,
     "metadata": {},
     "output_type": "execute_result"
    }
   ],
   "source": [
    "apple_clean"
   ]
  },
  {
   "cell_type": "markdown",
   "metadata": {},
   "source": [
    "### Maximum likelihood estimation\n",
    "Source: [Rob Hicks, WM.edu](http://rlhick.people.wm.edu/posts/estimating-custom-mle.html)"
   ]
  },
  {
   "cell_type": "code",
   "execution_count": 196,
   "metadata": {},
   "outputs": [],
   "source": [
    "from scipy.stats import norm\n",
    "import statsmodels.api as sm\n",
    "from statsmodels.base.model import GenericLikelihoodModel\n",
    "from scipy.optimize import minimize"
   ]
  },
  {
   "cell_type": "code",
   "execution_count": null,
   "metadata": {},
   "outputs": [],
   "source": [
    "# MLE, assuming 100MM people in population - unfinished"
   ]
  }
 ],
 "metadata": {
  "kernelspec": {
   "display_name": "Python 3",
   "language": "python",
   "name": "python3"
  },
  "language_info": {
   "codemirror_mode": {
    "name": "ipython",
    "version": 3
   },
   "file_extension": ".py",
   "mimetype": "text/x-python",
   "name": "python",
   "nbconvert_exporter": "python",
   "pygments_lexer": "ipython3",
   "version": "3.6.3"
  }
 },
 "nbformat": 4,
 "nbformat_minor": 2
}
